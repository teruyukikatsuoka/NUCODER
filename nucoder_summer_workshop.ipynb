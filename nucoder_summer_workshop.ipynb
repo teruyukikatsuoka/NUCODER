{
 "cells": [
  {
   "cell_type": "markdown",
   "metadata": {},
   "source": [
    "# NUCODER夏休み Python勉強会\n",
    "\n",
    "## 目次\n",
    "1. 標準入出力\n",
    "1. データ型\n",
    "1. 算術演算子\n",
    "1. if文\n",
    "1. for文"
   ]
  },
  {
   "cell_type": "markdown",
   "metadata": {},
   "source": [
    "## 1. 標準入出力\n",
    "\n",
    "Pythonで標準入出力を行うには、`print()`関数と`input()`関数を用います。  \n",
    "まずは、Pythonを用いて文字列を出力プログラムを作成してみましょう。  \n",
    "Pythonで文字列を表すには、シングルクォーテーション`'`かダブルクォーテーション`\"`で囲みます。  \n",
    "以下は「Hello, world!」という文字列を出力するプログラムです。  \n",
    "シングルクォーテーションの中の文字列を変更して、好きな文字列を出力してみましょう。  "
   ]
  },
  {
   "cell_type": "code",
   "execution_count": 5,
   "metadata": {},
   "outputs": [
    {
     "name": "stdout",
     "output_type": "stream",
     "text": [
      "Hello, World!\n",
      "\n"
     ]
    }
   ],
   "source": [
    "print('Hello, World!')"
   ]
  },
  {
   "cell_type": "markdown",
   "metadata": {},
   "source": [
    "続いてはコマンドラインから入力を受け取ってみましょう。Pythonでは`input()`関数を使います。  \n",
    "`input()`関数は、コマンドラインから入力された文字列を返します。  \n",
    "以下のプログラムを実行して、コマンドラインから入力された文字列を出力してみましょう。  "
   ]
  },
  {
   "cell_type": "code",
   "execution_count": 2,
   "metadata": {},
   "outputs": [
    {
     "name": "stdout",
     "output_type": "stream",
     "text": [
      "NUCODER\n"
     ]
    }
   ],
   "source": [
    "your_name = input('文字を入力してください：')\n",
    "print(your_name)"
   ]
  },
  {
   "cell_type": "markdown",
   "metadata": {},
   "source": [
    "Pythonでは文字と数値が区別されており、整数として扱いたい場合は`int()`として変換する必要があります。\n",
    "以下は、コマンドラインから入力された文字列を整数に変換して出力するプログラムです。"
   ]
  },
  {
   "cell_type": "code",
   "execution_count": 6,
   "metadata": {},
   "outputs": [
    {
     "name": "stdout",
     "output_type": "stream",
     "text": [
      "123213\n"
     ]
    }
   ],
   "source": [
    "number = int(input('数字を入力してください：'))\n",
    "print(number)"
   ]
  },
  {
   "cell_type": "markdown",
   "metadata": {},
   "source": [
    "\n",
    "次に以下のセルを実行して、1 2 3 と入力してみましょう。a, b, cにそれぞれ1, 2, 3が代入されることを確認してください。\n",
    "\n",
    "input()関数は文字列として \"1 2 3\" を受け取ります。そして、split()関数によってこの文字列はスペースで区切られ、次のようなリストになります： [\"1\", \"2\", \"3\"]。\n",
    "\n",
    "map(int, ...)を使ってこのリストの各要素を整数に変換し、それを変数a、b、cに順番に代入します。  \n",
    "つまり、aには1、bには2、cには3が代入されます。"
   ]
  },
  {
   "cell_type": "code",
   "execution_count": 12,
   "metadata": {},
   "outputs": [
    {
     "name": "stdout",
     "output_type": "stream",
     "text": [
      "1 2 3\n"
     ]
    }
   ],
   "source": [
    "a, b, c =  map(int, input().split())\n",
    "print(a, b, c)"
   ]
  },
  {
   "cell_type": "markdown",
   "metadata": {},
   "source": [
    "# 2. データ型\n",
    "データ型とは、変数に格納できるデータの種類のことです。\n",
    "\n",
    "__整数型 (Integer):__  \n",
    " 整数データを表現するためのデータ型です。例えば、整数型の変数には整数値を格納します。Pythonでは`int`と表現します。\n",
    "\n",
    "__浮動小数点型 (Floating-Point):__  \n",
    " 小数点数を表現するためのデータ型です。例えば、円周率のような実数値を格納します。Pythonでは`float`と表現します。\n",
    "\n",
    "__文字列型 (String):__  \n",
    " 文字列データを表現するためのデータ型です。テキスト情報を格納します。Pythonでは`str`と表現します。\n",
    "\n",
    "__ブール型 (Boolean):__  \n",
    " 真偽値を表現するためのデータ型です。真 (True) または偽 (False) の値を格納します。Pythonでは`bool`と表現します。\n",
    "\n",
    "__リスト (List):__  \n",
    " 複数のデータをまとめて格納するためのデータ型です。異なるプログラミング言語では異なる実装があります。Pythonでは`list`と表現します。"
   ]
  },
  {
   "cell_type": "code",
   "execution_count": 13,
   "metadata": {},
   "outputs": [
    {
     "name": "stdout",
     "output_type": "stream",
     "text": [
      "1\n",
      "<class 'int'>\n",
      "1\n",
      "<class 'str'>\n",
      "1.0\n",
      "<class 'float'>\n",
      "True\n",
      "<class 'bool'>\n",
      "[1, 2, 3, 4, 5]\n",
      "<class 'list'>\n"
     ]
    }
   ],
   "source": [
    "# それぞれのデータ型を確認してみましょう\n",
    "a = 1\n",
    "print(a)\n",
    "print(type(a))\n",
    "\n",
    "a = str(a)\n",
    "print(a)\n",
    "print(type(a))\n",
    "\n",
    "a = float(a)\n",
    "print(a)\n",
    "print(type(a))\n",
    "\n",
    "a = bool(a) # 0, 0.0, '', False 以外は True\n",
    "print(a)\n",
    "print(type(a))\n",
    "\n",
    "a = [1, 2, 3, 4, 5]\n",
    "print(a)\n",
    "print(type(a))"
   ]
  },
  {
   "cell_type": "markdown",
   "metadata": {},
   "source": [
    "リストの各要素にアクセスするには、リストの変数名の後に`[インデックス]`をつけます。  \n",
    "インデックスは0から始まります。以下の例では、リストの変数名が`list`で、インデックスが0の要素にアクセスしています。  \n",
    "また、指定したインデックスの要素を変更することもできます。"
   ]
  },
  {
   "cell_type": "code",
   "execution_count": 6,
   "metadata": {},
   "outputs": [
    {
     "name": "stdout",
     "output_type": "stream",
     "text": [
      "apple\n",
      "['melon', 'banana', 'orange', 'grape', 'peach']\n"
     ]
    }
   ],
   "source": [
    "# リストの各要素にアクセスする\n",
    "a = ['apple', 'banana', 'orange', 'grape', 'peach']\n",
    "print(a[0])\n",
    "# 指定したインデックスの要素を変更する\n",
    "a[0] = 'melon'\n",
    "print(a)"
   ]
  },
  {
   "cell_type": "markdown",
   "metadata": {},
   "source": [
    "また、一般的にListの入力は以下のように行います。"
   ]
  },
  {
   "cell_type": "code",
   "execution_count": 16,
   "metadata": {},
   "outputs": [
    {
     "name": "stdout",
     "output_type": "stream",
     "text": [
      "[1, 2, 3, 4, 5]\n",
      "<class 'list'>\n",
      "['apple', 'banana', 'orange', 'Strawberry', 'Grapes']\n",
      "<class 'list'>\n"
     ]
    }
   ],
   "source": [
    "a = list(map(int, input().split())) #好きな数をスペースを開けて入力してください。文字のリストになります。\n",
    "print(a)\n",
    "print(type(a))\n",
    "\n",
    "a = list(map(str, input().split())) #好きな文字をスペースを開けて入力してください。 文字のリストになります。\n",
    "print(a)\n",
    "print(type(a))"
   ]
  },
  {
   "cell_type": "markdown",
   "metadata": {},
   "source": [
    "## 3. 算術演算子\n",
    "\n",
    "様々な計算を意味する**演算子**と呼ばれる記号があります。\n",
    "代表的な演算子として、**算術演算子**と**比較演算子**があります。\n",
    "Pythonでは、以下のように記号を使って四則演算を行います。\n",
    "\n",
    "### 算術演算子\n",
    "| 演算 | 記号 |\n",
    "|------|------|\n",
    "| 加算（足し算） | `+` |\n",
    "| 減算（引き算） | `-` |\n",
    "| 乗算（掛け算） | `*` |\n",
    "| 除算（割り算） | `/` |\n",
    "| 余剰（割り算の余り） | `%` |\n",
    "\n",
    "### 比較演算子\n",
    "| 演算 | 記号 |\n",
    "|------|------|\n",
    "| 等しい | `==` |\n",
    "| 等しくない | `!=` |\n",
    "| より大きい | `>` |\n",
    "| より小さい | `<` |\n",
    "| 以上 | `>=` |\n",
    "| 以下 | `<=` |\n"
   ]
  },
  {
   "cell_type": "code",
   "execution_count": 13,
   "metadata": {},
   "outputs": [
    {
     "name": "stdout",
     "output_type": "stream",
     "text": [
      "2\n",
      "0\n",
      "4\n",
      "1.0\n"
     ]
    }
   ],
   "source": [
    "# 算術演算子の例\n",
    "print(1 + 1)\n",
    "print(1 - 1)\n",
    "print(2 * 2)\n",
    "print(2 / 2)"
   ]
  },
  {
   "cell_type": "code",
   "execution_count": 15,
   "metadata": {},
   "outputs": [
    {
     "name": "stdout",
     "output_type": "stream",
     "text": [
      "True\n",
      "True\n",
      "False\n",
      "False\n",
      "True\n"
     ]
    }
   ],
   "source": [
    "# 比較演算子の例\n",
    "print(1 == 1)\n",
    "print(1 != 2)\n",
    "print(1 == 2)\n",
    "print(1 > 2)\n",
    "print(1 < 2)"
   ]
  },
  {
   "cell_type": "markdown",
   "metadata": {},
   "source": [
    "## 4. if文\n",
    "if文は、条件によって処理を分岐させるための文です。\n",
    "if文では、条件式が真（True）の場合に、インデントされたブロック内の処理が実行されます。\n",
    "条件式が偽（False）の場合は、ブロック内の処理は実行されません。\n",
    "\n",
    "```python\n",
    "if 条件式1:\n",
    "    処理(条件式1が真の場合に実行される)\n",
    "elif 条件式2:\n",
    "    処理(条件式2が真の場合に実行される)\n",
    "```\n",
    "$\\vdots$\n",
    "```python\n",
    "else:\n",
    "    処理(条件式が偽の場合に実行される)\n",
    "```\n",
    "\n"
   ]
  },
  {
   "cell_type": "code",
   "execution_count": 21,
   "metadata": {},
   "outputs": [
    {
     "name": "stdout",
     "output_type": "stream",
     "text": [
      "2は1より大きい\n"
     ]
    }
   ],
   "source": [
    "# if文を使った例1\n",
    "if 2 < 1:\n",
    "    print('2は1より小さい')\n",
    "else:\n",
    "    print('2は1より大きい')"
   ]
  },
  {
   "cell_type": "code",
   "execution_count": 23,
   "metadata": {},
   "outputs": [
    {
     "name": "stdout",
     "output_type": "stream",
     "text": [
      "a = 40\n",
      "aは10より大きい\n"
     ]
    }
   ],
   "source": [
    "# if文を使った例2\n",
    "a = int(input())\n",
    "print('a = ' + str(a))\n",
    "\n",
    "if a < 10:\n",
    "    print('aは10より小さい')\n",
    "elif a == 10:\n",
    "    print('aは10と等しい')\n",
    "else:\n",
    "    print('aは10より大きい')"
   ]
  },
  {
   "cell_type": "markdown",
   "metadata": {},
   "source": [
    "## 5. for文\n",
    "for文は、繰り返し処理を行うための文です。\n",
    "for文では、リストの要素を順番に取り出して、ブロック内の処理を実行します。\n",
    "```python\n",
    "for 変数 in リスト:\n",
    "    処理\n",
    "```\n",
    "リストは、以下のようにrange()関数を使って作成することもできます。\n",
    "```python\n",
    "range(開始値, 終了値, ステップ)\n",
    "```"
   ]
  },
  {
   "cell_type": "code",
   "execution_count": 27,
   "metadata": {},
   "outputs": [
    {
     "name": "stdout",
     "output_type": "stream",
     "text": [
      "1\n",
      "2\n",
      "3\n",
      "4\n",
      "5\n",
      "6\n",
      "7\n",
      "8\n",
      "9\n"
     ]
    }
   ],
   "source": [
    "# for文を使った例\n",
    "for i in [1, 2, 3, 4, 5, 6, 7, 8, 9]:\n",
    "    print(i)"
   ]
  },
  {
   "cell_type": "code",
   "execution_count": 22,
   "metadata": {},
   "outputs": [
    {
     "name": "stdout",
     "output_type": "stream",
     "text": [
      "0\n",
      "1\n",
      "2\n",
      "3\n",
      "4\n",
      "5\n",
      "6\n",
      "7\n",
      "8\n",
      "9\n"
     ]
    }
   ],
   "source": [
    "for i in range(10):\n",
    "    print(i)"
   ]
  },
  {
   "cell_type": "code",
   "execution_count": 24,
   "metadata": {},
   "outputs": [
    {
     "name": "stdout",
     "output_type": "stream",
     "text": [
      "5\n",
      "6\n",
      "7\n",
      "8\n",
      "9\n"
     ]
    }
   ],
   "source": [
    "for i in range(5, 10):\n",
    "    print(i)"
   ]
  },
  {
   "cell_type": "code",
   "execution_count": 28,
   "metadata": {},
   "outputs": [
    {
     "name": "stdout",
     "output_type": "stream",
     "text": [
      "5\n",
      "7\n",
      "9\n"
     ]
    }
   ],
   "source": [
    "for i in range(5, 10, 2):\n",
    "    print(i)"
   ]
  },
  {
   "cell_type": "markdown",
   "metadata": {},
   "source": [
    "改行しないで出力した場合は、`print()`関数の引数に`end=\"\"`を追加します。  \n",
    "end引数は、`print()`関数の出力の最後に追加する文字列を指定することが出来ます。   "
   ]
  },
  {
   "cell_type": "code",
   "execution_count": 21,
   "metadata": {},
   "outputs": [
    {
     "name": "stdout",
     "output_type": "stream",
     "text": [
      "0 1 2 3 4 5 6 7 8 9 "
     ]
    }
   ],
   "source": [
    "for i in range(10):\n",
    "    print(i, end=' ')"
   ]
  }
 ],
 "metadata": {
  "kernelspec": {
   "display_name": "Python 3",
   "language": "python",
   "name": "python3"
  },
  "language_info": {
   "codemirror_mode": {
    "name": "ipython",
    "version": 3
   },
   "file_extension": ".py",
   "mimetype": "text/x-python",
   "name": "python",
   "nbconvert_exporter": "python",
   "pygments_lexer": "ipython3",
   "version": "3.10.5"
  },
  "orig_nbformat": 4
 },
 "nbformat": 4,
 "nbformat_minor": 2
}
